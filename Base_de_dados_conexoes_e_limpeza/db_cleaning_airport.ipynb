{
 "cells": [
  {
   "cell_type": "code",
   "execution_count": 1,
   "metadata": {},
   "outputs": [],
   "source": [
    "import pandas as pd"
   ]
  },
  {
   "cell_type": "code",
   "execution_count": 3,
   "metadata": {},
   "outputs": [],
   "source": [
    "df = pd.read_csv('../Dados/covid_airport.csv')"
   ]
  },
  {
   "cell_type": "code",
   "execution_count": 4,
   "metadata": {},
   "outputs": [
    {
     "name": "stdout",
     "output_type": "stream",
     "text": [
      "<class 'pandas.core.frame.DataFrame'>\n",
      "RangeIndex: 5936 entries, 0 to 5935\n",
      "Data columns (total 12 columns):\n",
      " #   Column             Non-Null Count  Dtype  \n",
      "---  ------             --------------  -----  \n",
      " 0   Unnamed: 0         5936 non-null   int64  \n",
      " 1   AggregationMethod  5936 non-null   object \n",
      " 2   Date               5936 non-null   object \n",
      " 3   Version            5936 non-null   float64\n",
      " 4   AirportName        5936 non-null   object \n",
      " 5   PercentOfBaseline  5936 non-null   int64  \n",
      " 6   Centroid           5936 non-null   object \n",
      " 7   City               5936 non-null   object \n",
      " 8   State              5936 non-null   object \n",
      " 9   ISO_3166_2         5936 non-null   object \n",
      " 10  Country            5936 non-null   object \n",
      " 11  Geography          5936 non-null   object \n",
      "dtypes: float64(1), int64(2), object(9)\n",
      "memory usage: 556.6+ KB\n"
     ]
    }
   ],
   "source": [
    "df.info()"
   ]
  },
  {
   "cell_type": "code",
   "execution_count": 5,
   "metadata": {},
   "outputs": [
    {
     "data": {
      "text/html": [
       "<div>\n",
       "<style scoped>\n",
       "    .dataframe tbody tr th:only-of-type {\n",
       "        vertical-align: middle;\n",
       "    }\n",
       "\n",
       "    .dataframe tbody tr th {\n",
       "        vertical-align: top;\n",
       "    }\n",
       "\n",
       "    .dataframe thead th {\n",
       "        text-align: right;\n",
       "    }\n",
       "</style>\n",
       "<table border=\"1\" class=\"dataframe\">\n",
       "  <thead>\n",
       "    <tr style=\"text-align: right;\">\n",
       "      <th></th>\n",
       "      <th>Unnamed: 0</th>\n",
       "      <th>AggregationMethod</th>\n",
       "      <th>Date</th>\n",
       "      <th>Version</th>\n",
       "      <th>AirportName</th>\n",
       "      <th>PercentOfBaseline</th>\n",
       "      <th>Centroid</th>\n",
       "      <th>City</th>\n",
       "      <th>State</th>\n",
       "      <th>ISO_3166_2</th>\n",
       "      <th>Country</th>\n",
       "      <th>Geography</th>\n",
       "    </tr>\n",
       "  </thead>\n",
       "  <tbody>\n",
       "    <tr>\n",
       "      <th>0</th>\n",
       "      <td>0</td>\n",
       "      <td>Daily</td>\n",
       "      <td>2020-03-16</td>\n",
       "      <td>1.0</td>\n",
       "      <td>Boston Logan International</td>\n",
       "      <td>97</td>\n",
       "      <td>POINT(-71.0102909977065 42.3636330376787)</td>\n",
       "      <td>Boston</td>\n",
       "      <td>Massachusetts</td>\n",
       "      <td>US-MA</td>\n",
       "      <td>United States of America (the)</td>\n",
       "      <td>POLYGON((-71.0050892829895 42.3472534332511, -...</td>\n",
       "    </tr>\n",
       "    <tr>\n",
       "      <th>1</th>\n",
       "      <td>1</td>\n",
       "      <td>Daily</td>\n",
       "      <td>2020-03-16</td>\n",
       "      <td>1.0</td>\n",
       "      <td>Calgary International</td>\n",
       "      <td>100</td>\n",
       "      <td>POINT(-114.013122872131 51.1184753727795)</td>\n",
       "      <td>Calgary</td>\n",
       "      <td>Alberta</td>\n",
       "      <td>CA-AB</td>\n",
       "      <td>Canada</td>\n",
       "      <td>POLYGON((-113.981866836548 51.1392131913567, -...</td>\n",
       "    </tr>\n",
       "    <tr>\n",
       "      <th>2</th>\n",
       "      <td>2</td>\n",
       "      <td>Daily</td>\n",
       "      <td>2020-03-16</td>\n",
       "      <td>1.0</td>\n",
       "      <td>Charlotte Douglas International</td>\n",
       "      <td>91</td>\n",
       "      <td>POINT(-80.9478114283204 35.2136892261228)</td>\n",
       "      <td>Charlotte</td>\n",
       "      <td>North Carolina</td>\n",
       "      <td>US-NC</td>\n",
       "      <td>United States of America (the)</td>\n",
       "      <td>POLYGON((-80.9332966804504 35.2337368340638, -...</td>\n",
       "    </tr>\n",
       "    <tr>\n",
       "      <th>3</th>\n",
       "      <td>3</td>\n",
       "      <td>Daily</td>\n",
       "      <td>2020-03-16</td>\n",
       "      <td>1.0</td>\n",
       "      <td>Chicago OHare International</td>\n",
       "      <td>94</td>\n",
       "      <td>POINT(-87.9105952039514 41.9804600429329)</td>\n",
       "      <td>Chicago</td>\n",
       "      <td>Illinois</td>\n",
       "      <td>US-IL</td>\n",
       "      <td>United States of America (the)</td>\n",
       "      <td>POLYGON((-87.939784526825 41.9608463704637, -8...</td>\n",
       "    </tr>\n",
       "    <tr>\n",
       "      <th>4</th>\n",
       "      <td>4</td>\n",
       "      <td>Daily</td>\n",
       "      <td>2020-03-16</td>\n",
       "      <td>1.0</td>\n",
       "      <td>Dallas/Fort Worth International</td>\n",
       "      <td>82</td>\n",
       "      <td>POINT(-97.0394983968728 32.8940590356408)</td>\n",
       "      <td>Grapevine</td>\n",
       "      <td>Texas</td>\n",
       "      <td>US-TX</td>\n",
       "      <td>United States of America (the)</td>\n",
       "      <td>POLYGON((-97.0429444313049 32.9265900261254, -...</td>\n",
       "    </tr>\n",
       "  </tbody>\n",
       "</table>\n",
       "</div>"
      ],
      "text/plain": [
       "   Unnamed: 0 AggregationMethod        Date  Version  \\\n",
       "0           0             Daily  2020-03-16      1.0   \n",
       "1           1             Daily  2020-03-16      1.0   \n",
       "2           2             Daily  2020-03-16      1.0   \n",
       "3           3             Daily  2020-03-16      1.0   \n",
       "4           4             Daily  2020-03-16      1.0   \n",
       "\n",
       "                       AirportName  PercentOfBaseline  \\\n",
       "0       Boston Logan International                 97   \n",
       "1            Calgary International                100   \n",
       "2  Charlotte Douglas International                 91   \n",
       "3      Chicago OHare International                 94   \n",
       "4  Dallas/Fort Worth International                 82   \n",
       "\n",
       "                                    Centroid       City           State  \\\n",
       "0  POINT(-71.0102909977065 42.3636330376787)     Boston   Massachusetts   \n",
       "1  POINT(-114.013122872131 51.1184753727795)    Calgary         Alberta   \n",
       "2  POINT(-80.9478114283204 35.2136892261228)  Charlotte  North Carolina   \n",
       "3  POINT(-87.9105952039514 41.9804600429329)    Chicago        Illinois   \n",
       "4  POINT(-97.0394983968728 32.8940590356408)  Grapevine           Texas   \n",
       "\n",
       "  ISO_3166_2                         Country  \\\n",
       "0      US-MA  United States of America (the)   \n",
       "1      CA-AB                          Canada   \n",
       "2      US-NC  United States of America (the)   \n",
       "3      US-IL  United States of America (the)   \n",
       "4      US-TX  United States of America (the)   \n",
       "\n",
       "                                           Geography  \n",
       "0  POLYGON((-71.0050892829895 42.3472534332511, -...  \n",
       "1  POLYGON((-113.981866836548 51.1392131913567, -...  \n",
       "2  POLYGON((-80.9332966804504 35.2337368340638, -...  \n",
       "3  POLYGON((-87.939784526825 41.9608463704637, -8...  \n",
       "4  POLYGON((-97.0429444313049 32.9265900261254, -...  "
      ]
     },
     "execution_count": 5,
     "metadata": {},
     "output_type": "execute_result"
    }
   ],
   "source": [
    "df.head()"
   ]
  },
  {
   "cell_type": "code",
   "execution_count": 10,
   "metadata": {},
   "outputs": [
    {
     "data": {
      "text/plain": [
       "array(['Daily'], dtype=object)"
      ]
     },
     "execution_count": 10,
     "metadata": {},
     "output_type": "execute_result"
    }
   ],
   "source": [
    "df['AggregationMethod'].unique()"
   ]
  },
  {
   "cell_type": "code",
   "execution_count": 11,
   "metadata": {},
   "outputs": [
    {
     "data": {
      "text/plain": [
       "array([1.])"
      ]
     },
     "execution_count": 11,
     "metadata": {},
     "output_type": "execute_result"
    }
   ],
   "source": [
    "df['Version'].unique()"
   ]
  }
 ],
 "metadata": {
  "kernelspec": {
   "display_name": "Python 3",
   "language": "python",
   "name": "python3"
  },
  "language_info": {
   "codemirror_mode": {
    "name": "ipython",
    "version": 3
   },
   "file_extension": ".py",
   "mimetype": "text/x-python",
   "name": "python",
   "nbconvert_exporter": "python",
   "pygments_lexer": "ipython3",
   "version": "3.8.5"
  }
 },
 "nbformat": 4,
 "nbformat_minor": 4
}
