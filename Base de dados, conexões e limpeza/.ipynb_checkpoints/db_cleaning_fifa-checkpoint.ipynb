{
 "cells": [
  {
   "cell_type": "code",
   "execution_count": 44,
   "metadata": {},
   "outputs": [],
   "source": [
    "import pandas as pd\n",
    "import numpy as np\n",
    "import seaborn as sns"
   ]
  },
  {
   "cell_type": "code",
   "execution_count": 3,
   "metadata": {},
   "outputs": [],
   "source": [
    "df = pd.read_csv('../Dados/fifa_players.csv')"
   ]
  },
  {
   "cell_type": "code",
   "execution_count": 4,
   "metadata": {
    "scrolled": false
   },
   "outputs": [
    {
     "name": "stdout",
     "output_type": "stream",
     "text": [
      "<class 'pandas.core.frame.DataFrame'>\n",
      "RangeIndex: 18207 entries, 0 to 18206\n",
      "Data columns (total 90 columns):\n",
      " #   Column                    Non-Null Count  Dtype  \n",
      "---  ------                    --------------  -----  \n",
      " 0   Unnamed: 0                18207 non-null  int64  \n",
      " 1   Counter                   18207 non-null  int64  \n",
      " 2   ID                        18207 non-null  int64  \n",
      " 3   Name                      18207 non-null  object \n",
      " 4   Age                       18207 non-null  int64  \n",
      " 5   Photo                     18207 non-null  object \n",
      " 6   Nationality               18207 non-null  object \n",
      " 7   Flag                      18207 non-null  object \n",
      " 8   Overall                   18207 non-null  int64  \n",
      " 9   Potential                 18207 non-null  int64  \n",
      " 10  Club                      17966 non-null  object \n",
      " 11  Club_Logo                 18207 non-null  object \n",
      " 12  Value                     18207 non-null  object \n",
      " 13  Wage                      18207 non-null  object \n",
      " 14  Special                   18207 non-null  int64  \n",
      " 15  Preferred_Foot            18159 non-null  object \n",
      " 16  International_Reputation  18159 non-null  float64\n",
      " 17  Weak_Foot                 18159 non-null  float64\n",
      " 18  Skill_Moves               18159 non-null  float64\n",
      " 19  Work_Rate                 18159 non-null  object \n",
      " 20  Body_Type                 18159 non-null  object \n",
      " 21  Real_Face                 18159 non-null  object \n",
      " 22  Position                  18147 non-null  object \n",
      " 23  Jersey_Number             18147 non-null  float64\n",
      " 24  Joined                    16654 non-null  object \n",
      " 25  Loaned_From               1264 non-null   object \n",
      " 26  Contract_Valid_Until      17918 non-null  object \n",
      " 27  Height                    18159 non-null  object \n",
      " 28  Weight                    18159 non-null  object \n",
      " 29  LS                        16122 non-null  object \n",
      " 30  ST                        16122 non-null  object \n",
      " 31  RS                        16122 non-null  object \n",
      " 32  LW                        16122 non-null  object \n",
      " 33  LF                        16122 non-null  object \n",
      " 34  CF                        16122 non-null  object \n",
      " 35  RF                        16122 non-null  object \n",
      " 36  RW                        16122 non-null  object \n",
      " 37  LAM                       16122 non-null  object \n",
      " 38  CAM                       16122 non-null  object \n",
      " 39  RAM                       16122 non-null  object \n",
      " 40  LM                        16122 non-null  object \n",
      " 41  LCM                       16122 non-null  object \n",
      " 42  CM                        16122 non-null  object \n",
      " 43  RCM                       16122 non-null  object \n",
      " 44  RM                        16122 non-null  object \n",
      " 45  LWB                       16122 non-null  object \n",
      " 46  LDM                       16122 non-null  object \n",
      " 47  CDM                       16122 non-null  object \n",
      " 48  RDM                       16122 non-null  object \n",
      " 49  RWB                       16122 non-null  object \n",
      " 50  LB                        16122 non-null  object \n",
      " 51  LCB                       16122 non-null  object \n",
      " 52  CB                        16122 non-null  object \n",
      " 53  RCB                       16122 non-null  object \n",
      " 54  RB                        16122 non-null  object \n",
      " 55  Crossing                  18159 non-null  float64\n",
      " 56  Finishing                 18159 non-null  float64\n",
      " 57  HeadingAccuracy           18159 non-null  float64\n",
      " 58  ShortPassing              18159 non-null  float64\n",
      " 59  Volleys                   18159 non-null  float64\n",
      " 60  Dribbling                 18159 non-null  float64\n",
      " 61  Curve                     18159 non-null  float64\n",
      " 62  FKAccuracy                18159 non-null  float64\n",
      " 63  LongPassing               18159 non-null  float64\n",
      " 64  BallControl               18159 non-null  float64\n",
      " 65  Acceleration              18159 non-null  float64\n",
      " 66  SprintSpeed               18159 non-null  float64\n",
      " 67  Agility                   18159 non-null  float64\n",
      " 68  Reactions                 18159 non-null  float64\n",
      " 69  Balance                   18159 non-null  float64\n",
      " 70  ShotPower                 18159 non-null  float64\n",
      " 71  Jumping                   18159 non-null  float64\n",
      " 72  Stamina                   18159 non-null  float64\n",
      " 73  Strength                  18159 non-null  float64\n",
      " 74  LongShots                 18159 non-null  float64\n",
      " 75  Aggression                18159 non-null  float64\n",
      " 76  Interceptions             18159 non-null  float64\n",
      " 77  Positioning               18159 non-null  float64\n",
      " 78  Vision                    18159 non-null  float64\n",
      " 79  Penalties                 18159 non-null  float64\n",
      " 80  Composure                 18159 non-null  float64\n",
      " 81  Marking                   18159 non-null  float64\n",
      " 82  StandingTackle            18159 non-null  float64\n",
      " 83  SlidingTackle             18159 non-null  float64\n",
      " 84  GKDiving                  18159 non-null  float64\n",
      " 85  GKHandling                18159 non-null  float64\n",
      " 86  GKKicking                 18159 non-null  float64\n",
      " 87  GKPositioning             18159 non-null  float64\n",
      " 88  GKReflexes                18159 non-null  float64\n",
      " 89  Release_Clause            16643 non-null  object \n",
      "dtypes: float64(38), int64(7), object(45)\n",
      "memory usage: 12.5+ MB\n"
     ]
    }
   ],
   "source": [
    "df.info()"
   ]
  },
  {
   "cell_type": "code",
   "execution_count": null,
   "metadata": {},
   "outputs": [],
   "source": [
    "df.drop(colums={''})"
   ]
  },
  {
   "cell_type": "code",
   "execution_count": 39,
   "metadata": {},
   "outputs": [
    {
     "data": {
      "text/plain": [
       "array(['+2', '+3', nan, '+5', '+4'], dtype=object)"
      ]
     },
     "execution_count": 39,
     "metadata": {},
     "output_type": "execute_result"
    }
   ],
   "source": [
    "def f(pos):\n",
    "    pos = str(pos)\n",
    "    if pos == 'nan':\n",
    "        return np.nan\n",
    "    return pos[-2:]\n",
    "\n",
    "df['RB'].apply(f).unique()\n",
    "\n",
    "# Desempenho extra, varia de acordo com o jogo (escalação, moral do time, etc).\n",
    "# Valor padrão determinando pelo overall rating"
   ]
  },
  {
   "cell_type": "code",
   "execution_count": 42,
   "metadata": {},
   "outputs": [
    {
     "data": {
      "text/plain": [
       "Index(['LS', 'ST', 'RS', 'LW', 'LF', 'CF', 'RF', 'RW', 'LAM', 'CAM', 'RAM',\n",
       "       'LM', 'LCM', 'CM', 'RCM', 'RM', 'LWB', 'LDM', 'CDM', 'RDM', 'RWB', 'LB',\n",
       "       'LCB', 'CB', 'RCB', 'RB'],\n",
       "      dtype='object')"
      ]
     },
     "execution_count": 42,
     "metadata": {},
     "output_type": "execute_result"
    }
   ],
   "source": [
    "df.columns[29:55]"
   ]
  },
  {
   "cell_type": "code",
   "execution_count": 45,
   "metadata": {},
   "outputs": [
    {
     "data": {
      "image/png": "[encoded data removed]",
      "text/plain": [
       "<Figure size 432x288 with 1 Axes>"
      ]
     },
     "metadata": {
      "needs_background": "light"
     },
     "output_type": "display_data"
    }
   ],
   "source": [
    "sns.countplot(data=df,y=\"Nationality\", order = df.Nationality.value_counts().iloc[:10].index);"
   ]
  },
  {
   "cell_type": "code",
   "execution_count": 46,
   "metadata": {
    "scrolled": true
   },
   "outputs": [
    {
     "data": {
      "text/plain": [
       "<AxesSubplot:xlabel='count', ylabel='Jersey_Number'>"
      ]
     },
     "execution_count": 46,
     "metadata": {},
     "output_type": "execute_result"
    },
    {
     "data": {
      "image/png": "[encoded data removed]",
      "text/plain": [
       "<Figure size 432x288 with 1 Axes>"
      ]
     },
     "metadata": {
      "needs_background": "light"
     },
     "output_type": "display_data"
    }
   ],
   "source": [
    "sns.countplot(data=df,y=\"Jersey_Number\", order = df.Jersey_Number.value_counts().iloc[:10].index)"
   ]
  },
  {
   "cell_type": "code",
   "execution_count": 52,
   "metadata": {
    "scrolled": true
   },
   "outputs": [
    {
     "data": {
      "image/png": "[encoded data removed]",
      "text/plain": [
       "<Figure size 432x288 with 1 Axes>"
      ]
     },
     "metadata": {
      "needs_background": "light"
     },
     "output_type": "display_data"
    }
   ],
   "source": [
    "#df.groupby().mean\n",
    "sns.scatterplot(data=df, x=\"Age\", y=\"Potential\");"
   ]
  }
 ],
 "metadata": {
  "kernelspec": {
   "display_name": "Python 3",
   "language": "python",
   "name": "python3"
  },
  "language_info": {
   "codemirror_mode": {
    "name": "ipython",
    "version": 3
   },
   "file_extension": ".py",
   "mimetype": "text/x-python",
   "name": "python",
   "nbconvert_exporter": "python",
   "pygments_lexer": "ipython3",
   "version": "3.8.5"
  }
 },
 "nbformat": 4,
 "nbformat_minor": 4
}
